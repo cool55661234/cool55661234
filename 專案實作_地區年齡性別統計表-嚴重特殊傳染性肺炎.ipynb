{
 "cells": [
  {
   "cell_type": "code",
   "execution_count": 38,
   "id": "fca3dacb",
   "metadata": {},
   "outputs": [
    {
     "data": {
      "text/html": [
       "<div>\n",
       "<style scoped>\n",
       "    .dataframe tbody tr th:only-of-type {\n",
       "        vertical-align: middle;\n",
       "    }\n",
       "\n",
       "    .dataframe tbody tr th {\n",
       "        vertical-align: top;\n",
       "    }\n",
       "\n",
       "    .dataframe thead th {\n",
       "        text-align: right;\n",
       "    }\n",
       "</style>\n",
       "<table border=\"1\" class=\"dataframe\">\n",
       "  <thead>\n",
       "    <tr style=\"text-align: right;\">\n",
       "      <th></th>\n",
       "      <th>確定病名</th>\n",
       "      <th>發病年份</th>\n",
       "      <th>發病月份</th>\n",
       "      <th>縣市</th>\n",
       "      <th>鄉鎮</th>\n",
       "      <th>性別</th>\n",
       "      <th>是否為境外移入</th>\n",
       "      <th>年齡層</th>\n",
       "      <th>確定病例數</th>\n",
       "    </tr>\n",
       "  </thead>\n",
       "  <tbody>\n",
       "    <tr>\n",
       "      <th>0</th>\n",
       "      <td>嚴重特殊傳染性肺炎</td>\n",
       "      <td>2020</td>\n",
       "      <td>1</td>\n",
       "      <td>台中市</td>\n",
       "      <td>太平區</td>\n",
       "      <td>M</td>\n",
       "      <td>否</td>\n",
       "      <td>30-34</td>\n",
       "      <td>1</td>\n",
       "    </tr>\n",
       "    <tr>\n",
       "      <th>1</th>\n",
       "      <td>嚴重特殊傳染性肺炎</td>\n",
       "      <td>2020</td>\n",
       "      <td>1</td>\n",
       "      <td>空值</td>\n",
       "      <td>空值</td>\n",
       "      <td>F</td>\n",
       "      <td>是</td>\n",
       "      <td>50-54</td>\n",
       "      <td>3</td>\n",
       "    </tr>\n",
       "    <tr>\n",
       "      <th>2</th>\n",
       "      <td>嚴重特殊傳染性肺炎</td>\n",
       "      <td>2020</td>\n",
       "      <td>1</td>\n",
       "      <td>空值</td>\n",
       "      <td>空值</td>\n",
       "      <td>F</td>\n",
       "      <td>是</td>\n",
       "      <td>55-59</td>\n",
       "      <td>2</td>\n",
       "    </tr>\n",
       "    <tr>\n",
       "      <th>3</th>\n",
       "      <td>嚴重特殊傳染性肺炎</td>\n",
       "      <td>2020</td>\n",
       "      <td>1</td>\n",
       "      <td>空值</td>\n",
       "      <td>空值</td>\n",
       "      <td>F</td>\n",
       "      <td>是</td>\n",
       "      <td>70+</td>\n",
       "      <td>2</td>\n",
       "    </tr>\n",
       "    <tr>\n",
       "      <th>4</th>\n",
       "      <td>嚴重特殊傳染性肺炎</td>\n",
       "      <td>2020</td>\n",
       "      <td>1</td>\n",
       "      <td>空值</td>\n",
       "      <td>空值</td>\n",
       "      <td>M</td>\n",
       "      <td>是</td>\n",
       "      <td>20-24</td>\n",
       "      <td>1</td>\n",
       "    </tr>\n",
       "    <tr>\n",
       "      <th>...</th>\n",
       "      <td>...</td>\n",
       "      <td>...</td>\n",
       "      <td>...</td>\n",
       "      <td>...</td>\n",
       "      <td>...</td>\n",
       "      <td>...</td>\n",
       "      <td>...</td>\n",
       "      <td>...</td>\n",
       "      <td>...</td>\n",
       "    </tr>\n",
       "    <tr>\n",
       "      <th>81169</th>\n",
       "      <td>嚴重特殊傳染性肺炎</td>\n",
       "      <td>2022</td>\n",
       "      <td>9</td>\n",
       "      <td>澎湖縣</td>\n",
       "      <td>湖西鄉</td>\n",
       "      <td>M</td>\n",
       "      <td>否</td>\n",
       "      <td>65-69</td>\n",
       "      <td>10</td>\n",
       "    </tr>\n",
       "    <tr>\n",
       "      <th>81170</th>\n",
       "      <td>嚴重特殊傳染性肺炎</td>\n",
       "      <td>2022</td>\n",
       "      <td>9</td>\n",
       "      <td>澎湖縣</td>\n",
       "      <td>白沙鄉</td>\n",
       "      <td>M</td>\n",
       "      <td>否</td>\n",
       "      <td>70+</td>\n",
       "      <td>5</td>\n",
       "    </tr>\n",
       "    <tr>\n",
       "      <th>81171</th>\n",
       "      <td>嚴重特殊傳染性肺炎</td>\n",
       "      <td>2022</td>\n",
       "      <td>9</td>\n",
       "      <td>澎湖縣</td>\n",
       "      <td>西嶼鄉</td>\n",
       "      <td>M</td>\n",
       "      <td>否</td>\n",
       "      <td>70+</td>\n",
       "      <td>8</td>\n",
       "    </tr>\n",
       "    <tr>\n",
       "      <th>81172</th>\n",
       "      <td>嚴重特殊傳染性肺炎</td>\n",
       "      <td>2022</td>\n",
       "      <td>9</td>\n",
       "      <td>澎湖縣</td>\n",
       "      <td>馬公市</td>\n",
       "      <td>M</td>\n",
       "      <td>否</td>\n",
       "      <td>70+</td>\n",
       "      <td>78</td>\n",
       "    </tr>\n",
       "    <tr>\n",
       "      <th>81173</th>\n",
       "      <td>嚴重特殊傳染性肺炎</td>\n",
       "      <td>2022</td>\n",
       "      <td>9</td>\n",
       "      <td>澎湖縣</td>\n",
       "      <td>湖西鄉</td>\n",
       "      <td>M</td>\n",
       "      <td>否</td>\n",
       "      <td>70+</td>\n",
       "      <td>28</td>\n",
       "    </tr>\n",
       "  </tbody>\n",
       "</table>\n",
       "<p>81174 rows × 9 columns</p>\n",
       "</div>"
      ],
      "text/plain": [
       "            確定病名  發病年份  發病月份   縣市   鄉鎮 性別 是否為境外移入    年齡層  確定病例數\n",
       "0      嚴重特殊傳染性肺炎  2020     1  台中市  太平區  M       否  30-34      1\n",
       "1      嚴重特殊傳染性肺炎  2020     1   空值   空值  F       是  50-54      3\n",
       "2      嚴重特殊傳染性肺炎  2020     1   空值   空值  F       是  55-59      2\n",
       "3      嚴重特殊傳染性肺炎  2020     1   空值   空值  F       是    70+      2\n",
       "4      嚴重特殊傳染性肺炎  2020     1   空值   空值  M       是  20-24      1\n",
       "...          ...   ...   ...  ...  ... ..     ...    ...    ...\n",
       "81169  嚴重特殊傳染性肺炎  2022     9  澎湖縣  湖西鄉  M       否  65-69     10\n",
       "81170  嚴重特殊傳染性肺炎  2022     9  澎湖縣  白沙鄉  M       否    70+      5\n",
       "81171  嚴重特殊傳染性肺炎  2022     9  澎湖縣  西嶼鄉  M       否    70+      8\n",
       "81172  嚴重特殊傳染性肺炎  2022     9  澎湖縣  馬公市  M       否    70+     78\n",
       "81173  嚴重特殊傳染性肺炎  2022     9  澎湖縣  湖西鄉  M       否    70+     28\n",
       "\n",
       "[81174 rows x 9 columns]"
      ]
     },
     "execution_count": 38,
     "metadata": {},
     "output_type": "execute_result"
    }
   ],
   "source": [
    "# 載入套件\n",
    "import matplotlib.pyplot as plt\n",
    "import seaborn as sns\n",
    "import numpy as np #創建數據\n",
    "plt.rcParams['font.sans-serif'] = ['SimHei']\n",
    "plt.rcParams['axes.unicode_minus'] = False\n",
    "data  = pd.read_csv('agecov.csv')\n",
    "data"
   ]
  },
  {
   "cell_type": "markdown",
   "id": "8f8c0457",
   "metadata": {},
   "source": [
    "# 1.查看前五與後五欄數據"
   ]
  },
  {
   "cell_type": "code",
   "execution_count": 39,
   "id": "c18e3c28",
   "metadata": {},
   "outputs": [
    {
     "data": {
      "text/html": [
       "<div>\n",
       "<style scoped>\n",
       "    .dataframe tbody tr th:only-of-type {\n",
       "        vertical-align: middle;\n",
       "    }\n",
       "\n",
       "    .dataframe tbody tr th {\n",
       "        vertical-align: top;\n",
       "    }\n",
       "\n",
       "    .dataframe thead th {\n",
       "        text-align: right;\n",
       "    }\n",
       "</style>\n",
       "<table border=\"1\" class=\"dataframe\">\n",
       "  <thead>\n",
       "    <tr style=\"text-align: right;\">\n",
       "      <th></th>\n",
       "      <th>確定病名</th>\n",
       "      <th>發病年份</th>\n",
       "      <th>發病月份</th>\n",
       "      <th>縣市</th>\n",
       "      <th>鄉鎮</th>\n",
       "      <th>性別</th>\n",
       "      <th>是否為境外移入</th>\n",
       "      <th>年齡層</th>\n",
       "      <th>確定病例數</th>\n",
       "    </tr>\n",
       "  </thead>\n",
       "  <tbody>\n",
       "    <tr>\n",
       "      <th>0</th>\n",
       "      <td>嚴重特殊傳染性肺炎</td>\n",
       "      <td>2020</td>\n",
       "      <td>1</td>\n",
       "      <td>台中市</td>\n",
       "      <td>太平區</td>\n",
       "      <td>M</td>\n",
       "      <td>否</td>\n",
       "      <td>30-34</td>\n",
       "      <td>1</td>\n",
       "    </tr>\n",
       "    <tr>\n",
       "      <th>1</th>\n",
       "      <td>嚴重特殊傳染性肺炎</td>\n",
       "      <td>2020</td>\n",
       "      <td>1</td>\n",
       "      <td>空值</td>\n",
       "      <td>空值</td>\n",
       "      <td>F</td>\n",
       "      <td>是</td>\n",
       "      <td>50-54</td>\n",
       "      <td>3</td>\n",
       "    </tr>\n",
       "    <tr>\n",
       "      <th>2</th>\n",
       "      <td>嚴重特殊傳染性肺炎</td>\n",
       "      <td>2020</td>\n",
       "      <td>1</td>\n",
       "      <td>空值</td>\n",
       "      <td>空值</td>\n",
       "      <td>F</td>\n",
       "      <td>是</td>\n",
       "      <td>55-59</td>\n",
       "      <td>2</td>\n",
       "    </tr>\n",
       "    <tr>\n",
       "      <th>3</th>\n",
       "      <td>嚴重特殊傳染性肺炎</td>\n",
       "      <td>2020</td>\n",
       "      <td>1</td>\n",
       "      <td>空值</td>\n",
       "      <td>空值</td>\n",
       "      <td>F</td>\n",
       "      <td>是</td>\n",
       "      <td>70+</td>\n",
       "      <td>2</td>\n",
       "    </tr>\n",
       "    <tr>\n",
       "      <th>4</th>\n",
       "      <td>嚴重特殊傳染性肺炎</td>\n",
       "      <td>2020</td>\n",
       "      <td>1</td>\n",
       "      <td>空值</td>\n",
       "      <td>空值</td>\n",
       "      <td>M</td>\n",
       "      <td>是</td>\n",
       "      <td>20-24</td>\n",
       "      <td>1</td>\n",
       "    </tr>\n",
       "  </tbody>\n",
       "</table>\n",
       "</div>"
      ],
      "text/plain": [
       "        確定病名  發病年份  發病月份   縣市   鄉鎮 性別 是否為境外移入    年齡層  確定病例數\n",
       "0  嚴重特殊傳染性肺炎  2020     1  台中市  太平區  M       否  30-34      1\n",
       "1  嚴重特殊傳染性肺炎  2020     1   空值   空值  F       是  50-54      3\n",
       "2  嚴重特殊傳染性肺炎  2020     1   空值   空值  F       是  55-59      2\n",
       "3  嚴重特殊傳染性肺炎  2020     1   空值   空值  F       是    70+      2\n",
       "4  嚴重特殊傳染性肺炎  2020     1   空值   空值  M       是  20-24      1"
      ]
     },
     "execution_count": 39,
     "metadata": {},
     "output_type": "execute_result"
    }
   ],
   "source": [
    "data.head()"
   ]
  },
  {
   "cell_type": "code",
   "execution_count": 40,
   "id": "e2f09468",
   "metadata": {},
   "outputs": [
    {
     "data": {
      "text/html": [
       "<div>\n",
       "<style scoped>\n",
       "    .dataframe tbody tr th:only-of-type {\n",
       "        vertical-align: middle;\n",
       "    }\n",
       "\n",
       "    .dataframe tbody tr th {\n",
       "        vertical-align: top;\n",
       "    }\n",
       "\n",
       "    .dataframe thead th {\n",
       "        text-align: right;\n",
       "    }\n",
       "</style>\n",
       "<table border=\"1\" class=\"dataframe\">\n",
       "  <thead>\n",
       "    <tr style=\"text-align: right;\">\n",
       "      <th></th>\n",
       "      <th>確定病名</th>\n",
       "      <th>發病年份</th>\n",
       "      <th>發病月份</th>\n",
       "      <th>縣市</th>\n",
       "      <th>鄉鎮</th>\n",
       "      <th>性別</th>\n",
       "      <th>是否為境外移入</th>\n",
       "      <th>年齡層</th>\n",
       "      <th>確定病例數</th>\n",
       "    </tr>\n",
       "  </thead>\n",
       "  <tbody>\n",
       "    <tr>\n",
       "      <th>81169</th>\n",
       "      <td>嚴重特殊傳染性肺炎</td>\n",
       "      <td>2022</td>\n",
       "      <td>9</td>\n",
       "      <td>澎湖縣</td>\n",
       "      <td>湖西鄉</td>\n",
       "      <td>M</td>\n",
       "      <td>否</td>\n",
       "      <td>65-69</td>\n",
       "      <td>10</td>\n",
       "    </tr>\n",
       "    <tr>\n",
       "      <th>81170</th>\n",
       "      <td>嚴重特殊傳染性肺炎</td>\n",
       "      <td>2022</td>\n",
       "      <td>9</td>\n",
       "      <td>澎湖縣</td>\n",
       "      <td>白沙鄉</td>\n",
       "      <td>M</td>\n",
       "      <td>否</td>\n",
       "      <td>70+</td>\n",
       "      <td>5</td>\n",
       "    </tr>\n",
       "    <tr>\n",
       "      <th>81171</th>\n",
       "      <td>嚴重特殊傳染性肺炎</td>\n",
       "      <td>2022</td>\n",
       "      <td>9</td>\n",
       "      <td>澎湖縣</td>\n",
       "      <td>西嶼鄉</td>\n",
       "      <td>M</td>\n",
       "      <td>否</td>\n",
       "      <td>70+</td>\n",
       "      <td>8</td>\n",
       "    </tr>\n",
       "    <tr>\n",
       "      <th>81172</th>\n",
       "      <td>嚴重特殊傳染性肺炎</td>\n",
       "      <td>2022</td>\n",
       "      <td>9</td>\n",
       "      <td>澎湖縣</td>\n",
       "      <td>馬公市</td>\n",
       "      <td>M</td>\n",
       "      <td>否</td>\n",
       "      <td>70+</td>\n",
       "      <td>78</td>\n",
       "    </tr>\n",
       "    <tr>\n",
       "      <th>81173</th>\n",
       "      <td>嚴重特殊傳染性肺炎</td>\n",
       "      <td>2022</td>\n",
       "      <td>9</td>\n",
       "      <td>澎湖縣</td>\n",
       "      <td>湖西鄉</td>\n",
       "      <td>M</td>\n",
       "      <td>否</td>\n",
       "      <td>70+</td>\n",
       "      <td>28</td>\n",
       "    </tr>\n",
       "  </tbody>\n",
       "</table>\n",
       "</div>"
      ],
      "text/plain": [
       "            確定病名  發病年份  發病月份   縣市   鄉鎮 性別 是否為境外移入    年齡層  確定病例數\n",
       "81169  嚴重特殊傳染性肺炎  2022     9  澎湖縣  湖西鄉  M       否  65-69     10\n",
       "81170  嚴重特殊傳染性肺炎  2022     9  澎湖縣  白沙鄉  M       否    70+      5\n",
       "81171  嚴重特殊傳染性肺炎  2022     9  澎湖縣  西嶼鄉  M       否    70+      8\n",
       "81172  嚴重特殊傳染性肺炎  2022     9  澎湖縣  馬公市  M       否    70+     78\n",
       "81173  嚴重特殊傳染性肺炎  2022     9  澎湖縣  湖西鄉  M       否    70+     28"
      ]
     },
     "execution_count": 40,
     "metadata": {},
     "output_type": "execute_result"
    }
   ],
   "source": [
    "data.tail()"
   ]
  },
  {
   "cell_type": "markdown",
   "id": "7f5d1d1b",
   "metadata": {},
   "source": [
    "# 3.數據總量"
   ]
  },
  {
   "cell_type": "code",
   "execution_count": 41,
   "id": "2e0b4185",
   "metadata": {},
   "outputs": [
    {
     "name": "stdout",
     "output_type": "stream",
     "text": [
      "行數 81174\n",
      "欄位數 9\n"
     ]
    }
   ],
   "source": [
    "data.shape\n",
    "print('行數',data.shape[0])\n",
    "print('欄位數',data.shape[1])"
   ]
  },
  {
   "cell_type": "markdown",
   "id": "633c0ab5",
   "metadata": {},
   "source": [
    "# 4.查看資料數據總覽"
   ]
  },
  {
   "cell_type": "code",
   "execution_count": 42,
   "id": "0d8d788d",
   "metadata": {},
   "outputs": [
    {
     "name": "stdout",
     "output_type": "stream",
     "text": [
      "<class 'pandas.core.frame.DataFrame'>\n",
      "RangeIndex: 81174 entries, 0 to 81173\n",
      "Data columns (total 9 columns):\n",
      " #   Column   Non-Null Count  Dtype \n",
      "---  ------   --------------  ----- \n",
      " 0   確定病名     81174 non-null  object\n",
      " 1   發病年份     81174 non-null  int64 \n",
      " 2   發病月份     81174 non-null  int64 \n",
      " 3   縣市       81174 non-null  object\n",
      " 4   鄉鎮       81174 non-null  object\n",
      " 5   性別       81174 non-null  object\n",
      " 6   是否為境外移入  81174 non-null  object\n",
      " 7   年齡層      81174 non-null  object\n",
      " 8   確定病例數    81174 non-null  int64 \n",
      "dtypes: int64(3), object(6)\n",
      "memory usage: 5.6+ MB\n"
     ]
    }
   ],
   "source": [
    "data.info()  #確認欄位名稱與屬性"
   ]
  },
  {
   "cell_type": "markdown",
   "id": "36212bdc",
   "metadata": {},
   "source": [
    "# 5.總體統計信息"
   ]
  },
  {
   "cell_type": "code",
   "execution_count": 43,
   "id": "9f4422eb",
   "metadata": {},
   "outputs": [
    {
     "data": {
      "text/html": [
       "<div>\n",
       "<style scoped>\n",
       "    .dataframe tbody tr th:only-of-type {\n",
       "        vertical-align: middle;\n",
       "    }\n",
       "\n",
       "    .dataframe tbody tr th {\n",
       "        vertical-align: top;\n",
       "    }\n",
       "\n",
       "    .dataframe thead th {\n",
       "        text-align: right;\n",
       "    }\n",
       "</style>\n",
       "<table border=\"1\" class=\"dataframe\">\n",
       "  <thead>\n",
       "    <tr style=\"text-align: right;\">\n",
       "      <th></th>\n",
       "      <th>發病年份</th>\n",
       "      <th>發病月份</th>\n",
       "      <th>確定病例數</th>\n",
       "    </tr>\n",
       "  </thead>\n",
       "  <tbody>\n",
       "    <tr>\n",
       "      <th>count</th>\n",
       "      <td>81174.000000</td>\n",
       "      <td>81174.000000</td>\n",
       "      <td>81174.000000</td>\n",
       "    </tr>\n",
       "    <tr>\n",
       "      <th>mean</th>\n",
       "      <td>2021.946399</td>\n",
       "      <td>6.564442</td>\n",
       "      <td>75.998768</td>\n",
       "    </tr>\n",
       "    <tr>\n",
       "      <th>std</th>\n",
       "      <td>0.236958</td>\n",
       "      <td>1.697601</td>\n",
       "      <td>178.542268</td>\n",
       "    </tr>\n",
       "    <tr>\n",
       "      <th>min</th>\n",
       "      <td>2020.000000</td>\n",
       "      <td>1.000000</td>\n",
       "      <td>1.000000</td>\n",
       "    </tr>\n",
       "    <tr>\n",
       "      <th>25%</th>\n",
       "      <td>2022.000000</td>\n",
       "      <td>5.000000</td>\n",
       "      <td>5.000000</td>\n",
       "    </tr>\n",
       "    <tr>\n",
       "      <th>50%</th>\n",
       "      <td>2022.000000</td>\n",
       "      <td>7.000000</td>\n",
       "      <td>18.000000</td>\n",
       "    </tr>\n",
       "    <tr>\n",
       "      <th>75%</th>\n",
       "      <td>2022.000000</td>\n",
       "      <td>8.000000</td>\n",
       "      <td>66.000000</td>\n",
       "    </tr>\n",
       "    <tr>\n",
       "      <th>max</th>\n",
       "      <td>2022.000000</td>\n",
       "      <td>12.000000</td>\n",
       "      <td>4979.000000</td>\n",
       "    </tr>\n",
       "  </tbody>\n",
       "</table>\n",
       "</div>"
      ],
      "text/plain": [
       "               發病年份          發病月份         確定病例數\n",
       "count  81174.000000  81174.000000  81174.000000\n",
       "mean    2021.946399      6.564442     75.998768\n",
       "std        0.236958      1.697601    178.542268\n",
       "min     2020.000000      1.000000      1.000000\n",
       "25%     2022.000000      5.000000      5.000000\n",
       "50%     2022.000000      7.000000     18.000000\n",
       "75%     2022.000000      8.000000     66.000000\n",
       "max     2022.000000     12.000000   4979.000000"
      ]
     },
     "execution_count": 43,
     "metadata": {},
     "output_type": "execute_result"
    }
   ],
   "source": [
    "data.describe()"
   ]
  },
  {
   "cell_type": "markdown",
   "id": "b2cf37bc",
   "metadata": {},
   "source": [
    "# 6.檢查是否有重複數值"
   ]
  },
  {
   "cell_type": "code",
   "execution_count": 44,
   "id": "4a6ecf82",
   "metadata": {},
   "outputs": [
    {
     "name": "stdout",
     "output_type": "stream",
     "text": [
      "Are there any duplicated value in data? False\n"
     ]
    }
   ],
   "source": [
    "dup_data = data.duplicated().any()\n",
    "print('Are there any duplicated value in data?',dup_data) #查看沒有重複數據"
   ]
  },
  {
   "cell_type": "markdown",
   "id": "f25b70ac",
   "metadata": {},
   "source": [
    "# 7.檢查是否有空值"
   ]
  },
  {
   "cell_type": "code",
   "execution_count": 45,
   "id": "d2680a96",
   "metadata": {},
   "outputs": [
    {
     "data": {
      "text/plain": [
       "確定病名       0\n",
       "發病年份       0\n",
       "發病月份       0\n",
       "縣市         0\n",
       "鄉鎮         0\n",
       "性別         0\n",
       "是否為境外移入    0\n",
       "年齡層        0\n",
       "確定病例數      0\n",
       "dtype: int64"
      ]
     },
     "execution_count": 45,
     "metadata": {},
     "output_type": "execute_result"
    }
   ],
   "source": [
    "data.isnull().sum() #查看數據內沒有空值"
   ]
  },
  {
   "cell_type": "markdown",
   "id": "5ce74b9a",
   "metadata": {},
   "source": [
    "# 8.檢查欄位中的顯示數值"
   ]
  },
  {
   "cell_type": "code",
   "execution_count": 46,
   "id": "7892ddac",
   "metadata": {},
   "outputs": [
    {
     "data": {
      "text/plain": [
       "Index(['確定病名', '發病年份', '發病月份', '縣市', '鄉鎮', '性別', '是否為境外移入', '年齡層', '確定病例數'], dtype='object')"
      ]
     },
     "execution_count": 46,
     "metadata": {},
     "output_type": "execute_result"
    }
   ],
   "source": [
    "data.columns"
   ]
  },
  {
   "cell_type": "code",
   "execution_count": 47,
   "id": "eaab6628",
   "metadata": {},
   "outputs": [
    {
     "data": {
      "text/plain": [
       "嚴重特殊傳染性肺炎    81174\n",
       "Name: 確定病名, dtype: int64"
      ]
     },
     "execution_count": 47,
     "metadata": {},
     "output_type": "execute_result"
    }
   ],
   "source": [
    "data['確定病名'].value_counts()"
   ]
  },
  {
   "cell_type": "code",
   "execution_count": 48,
   "id": "8ceff6f5",
   "metadata": {},
   "outputs": [
    {
     "data": {
      "text/plain": [
       "2022    77043\n",
       "2021     3911\n",
       "2020      220\n",
       "Name: 發病年份, dtype: int64"
      ]
     },
     "execution_count": 48,
     "metadata": {},
     "output_type": "execute_result"
    }
   ],
   "source": [
    "data['發病年份'].value_counts()"
   ]
  },
  {
   "cell_type": "code",
   "execution_count": 122,
   "id": "cc239d01",
   "metadata": {},
   "outputs": [
    {
     "name": "stderr",
     "output_type": "stream",
     "text": [
      "C:\\Users\\USER\\anaconda3\\lib\\site-packages\\seaborn\\_decorators.py:36: FutureWarning: Pass the following variable as a keyword arg: x. From version 0.12, the only valid positional argument will be `data`, and passing other arguments without an explicit keyword will result in an error or misinterpretation.\n",
      "  warnings.warn(\n"
     ]
    },
    {
     "data": {
      "text/plain": [
       "<AxesSubplot:xlabel='發病年份', ylabel='count'>"
      ]
     },
     "execution_count": 122,
     "metadata": {},
     "output_type": "execute_result"
    },
    {
     "data": {
      "image/png": "[encoded data removed]",
      "text/plain": [
       "<Figure size 432x288 with 1 Axes>"
      ]
     },
     "metadata": {
      "needs_background": "light"
     },
     "output_type": "display_data"
    }
   ],
   "source": [
    "sns.countplot('發病年份',data = data) #2022發病統計數量最多"
   ]
  },
  {
   "cell_type": "code",
   "execution_count": 49,
   "id": "0b08581a",
   "metadata": {},
   "outputs": [
    {
     "data": {
      "text/plain": [
       "高雄市    8122\n",
       "新北市    7795\n",
       "台南市    7455\n",
       "台中市    6615\n",
       "屏東縣    6469\n",
       "彰化縣    5615\n",
       "雲林縣    4115\n",
       "台北市    3843\n",
       "桃園市    3727\n",
       "苗栗縣    3645\n",
       "嘉義縣    3496\n",
       "台東縣    2977\n",
       "宜蘭縣    2777\n",
       "花蓮縣    2771\n",
       "新竹縣    2755\n",
       "南投縣    2634\n",
       "基隆市    1905\n",
       "澎湖縣     978\n",
       "金門縣     971\n",
       "空值      777\n",
       "新竹市     733\n",
       "連江縣     538\n",
       "嘉義市     461\n",
       "Name: 縣市, dtype: int64"
      ]
     },
     "execution_count": 49,
     "metadata": {},
     "output_type": "execute_result"
    }
   ],
   "source": [
    "data['縣市'].value_counts() #空值777"
   ]
  },
  {
   "cell_type": "code",
   "execution_count": 50,
   "id": "b430c92c",
   "metadata": {},
   "outputs": [
    {
     "data": {
      "text/plain": [
       "M    40270\n",
       "F    40057\n",
       "U      706\n",
       "X      141\n",
       "Name: 性別, dtype: int64"
      ]
     },
     "execution_count": 50,
     "metadata": {},
     "output_type": "execute_result"
    }
   ],
   "source": [
    "data['性別'].value_counts()"
   ]
  },
  {
   "cell_type": "code",
   "execution_count": 51,
   "id": "aef5a034",
   "metadata": {},
   "outputs": [
    {
     "data": {
      "text/plain": [
       "否    80397\n",
       "是      777\n",
       "Name: 是否為境外移入, dtype: int64"
      ]
     },
     "execution_count": 51,
     "metadata": {},
     "output_type": "execute_result"
    }
   ],
   "source": [
    "data['是否為境外移入'].value_counts()"
   ]
  },
  {
   "cell_type": "code",
   "execution_count": 26,
   "id": "25c90ae8",
   "metadata": {},
   "outputs": [
    {
     "data": {
      "text/plain": [
       "25-29     4687\n",
       "30-34     4682\n",
       "20-24     4665\n",
       "35-39     4664\n",
       "40-44     4641\n",
       "50-54     4536\n",
       "55-59     4531\n",
       "45-49     4530\n",
       "70+       4513\n",
       "60-64     4448\n",
       "65-69     4396\n",
       "15-19     4394\n",
       "5月9日      4335\n",
       "10月14日    4243\n",
       "4         3669\n",
       "3         3626\n",
       "2         3613\n",
       "1         3605\n",
       "0         3396\n",
       "Name: 年齡層, dtype: int64"
      ]
     },
     "execution_count": 26,
     "metadata": {},
     "output_type": "execute_result"
    }
   ],
   "source": [
    "data['年齡層'].value_counts()  #發現年齡層為亂數"
   ]
  },
  {
   "cell_type": "code",
   "execution_count": 53,
   "id": "75e9eeac",
   "metadata": {},
   "outputs": [
    {
     "data": {
      "text/plain": [
       "確定病名         0\n",
       "發病年份         0\n",
       "發病月份         0\n",
       "縣市         777\n",
       "鄉鎮         777\n",
       "性別           0\n",
       "是否為境外移入      0\n",
       "年齡層          0\n",
       "確定病例數        0\n",
       "dtype: int64"
      ]
     },
     "execution_count": 53,
     "metadata": {},
     "output_type": "execute_result"
    }
   ],
   "source": [
    "data.isin(['空值']).sum()  "
   ]
  },
  {
   "cell_type": "code",
   "execution_count": 54,
   "id": "32d66230",
   "metadata": {},
   "outputs": [],
   "source": [
    "import numpy as np  #將空值取代為Nan為避\n",
    "data['縣市'] = data['縣市'].replace('空值',np.nan)\n",
    "data['鄉鎮'] = data['鄉鎮'].replace('空值',np.nan)"
   ]
  },
  {
   "cell_type": "code",
   "execution_count": 55,
   "id": "d54d7dc8",
   "metadata": {},
   "outputs": [
    {
     "data": {
      "text/plain": [
       "確定病名       0\n",
       "發病年份       0\n",
       "發病月份       0\n",
       "縣市         0\n",
       "鄉鎮         0\n",
       "性別         0\n",
       "是否為境外移入    0\n",
       "年齡層        0\n",
       "確定病例數      0\n",
       "dtype: int64"
      ]
     },
     "execution_count": 55,
     "metadata": {},
     "output_type": "execute_result"
    }
   ],
   "source": [
    "data.isin(['空值']).sum() #將空值取代為Nan為避"
   ]
  },
  {
   "cell_type": "code",
   "execution_count": 56,
   "id": "2afc5f86",
   "metadata": {},
   "outputs": [
    {
     "data": {
      "text/plain": [
       "確定病名         0\n",
       "發病年份         0\n",
       "發病月份         0\n",
       "縣市         777\n",
       "鄉鎮         777\n",
       "性別           0\n",
       "是否為境外移入      0\n",
       "年齡層          0\n",
       "確定病例數        0\n",
       "dtype: int64"
      ]
     },
     "execution_count": 56,
     "metadata": {},
     "output_type": "execute_result"
    }
   ],
   "source": [
    "data.isnull().sum()"
   ]
  },
  {
   "cell_type": "code",
   "execution_count": 57,
   "id": "312115d8",
   "metadata": {},
   "outputs": [
    {
     "data": {
      "text/plain": [
       "<AxesSubplot:>"
      ]
     },
     "execution_count": 57,
     "metadata": {},
     "output_type": "execute_result"
    },
    {
     "data": {
      "image/png": "[encoded data removed]",
      "text/plain": [
       "<Figure size 432x288 with 2 Axes>"
      ]
     },
     "metadata": {
      "needs_background": "light"
     },
     "output_type": "display_data"
    }
   ],
   "source": [
    "sns.heatmap(data.isnull()) "
   ]
  },
  {
   "cell_type": "markdown",
   "id": "3d69d92c",
   "metadata": {},
   "source": [
    "# 9.接下來將Nan的數值刪除"
   ]
  },
  {
   "cell_type": "code",
   "execution_count": 58,
   "id": "5066356a",
   "metadata": {},
   "outputs": [
    {
     "data": {
      "text/plain": [
       "確定病名       0.000000\n",
       "發病年份       0.000000\n",
       "發病月份       0.000000\n",
       "縣市         0.957203\n",
       "鄉鎮         0.957203\n",
       "性別         0.000000\n",
       "是否為境外移入    0.000000\n",
       "年齡層        0.000000\n",
       "確定病例數      0.000000\n",
       "dtype: float64"
      ]
     },
     "execution_count": 58,
     "metadata": {},
     "output_type": "execute_result"
    }
   ],
   "source": [
    "per_missing = data.isnull().sum()*100/len(data)\n",
    "per_missing  #縣市占了1% 性別占了1%的缺失值"
   ]
  },
  {
   "cell_type": "code",
   "execution_count": 59,
   "id": "3e849df7",
   "metadata": {},
   "outputs": [
    {
     "data": {
      "text/plain": [
       "(80397, 9)"
      ]
     },
     "execution_count": 59,
     "metadata": {},
     "output_type": "execute_result"
    }
   ],
   "source": [
    "data.dropna(how= 'any',inplace = True)\n",
    "data.shape  #比對先前一開始的數據，(80397, 9) (81174 rows × 9 columns) 刪除了約7777筆資料"
   ]
  },
  {
   "cell_type": "code",
   "execution_count": null,
   "id": "9b37cf9c",
   "metadata": {},
   "outputs": [],
   "source": [
    "# 81174-80397 刪除了777筆資料"
   ]
  },
  {
   "cell_type": "code",
   "execution_count": 61,
   "id": "52cf0d52",
   "metadata": {},
   "outputs": [
    {
     "data": {
      "text/plain": [
       "<AxesSubplot:>"
      ]
     },
     "execution_count": 61,
     "metadata": {},
     "output_type": "execute_result"
    },
    {
     "data": {
      "image/png": "[encoded data removed]",
      "text/plain": [
       "<Figure size 432x288 with 2 Axes>"
      ]
     },
     "metadata": {
      "needs_background": "light"
     },
     "output_type": "display_data"
    }
   ],
   "source": [
    "sns.heatmap(data.isnull())  #根據熱圖顯示已經沒有缺失值"
   ]
  },
  {
   "cell_type": "code",
   "execution_count": 63,
   "id": "2386e9dc",
   "metadata": {},
   "outputs": [],
   "source": [
    "map_dict = {'10月14日': '10-14','5月9日': '55-59','2':'20-24','3':'30-34','4':'40-44','0':'0-4','1':'05-09'}\n",
    "data['年齡層'] = data['年齡層'].replace(map_dict)  #年齡層數值有誤更新為正確數值區間"
   ]
  },
  {
   "cell_type": "code",
   "execution_count": 65,
   "id": "44e1b14a",
   "metadata": {},
   "outputs": [
    {
     "data": {
      "text/plain": [
       "array(['30-34', '40-44', '20-24', '65-69', '45-49', '50-54', '60-64',\n",
       "       '55-59', '25-29', '70+', '10-14', '15-19', '35-39', '05-09', '0-4'],\n",
       "      dtype=object)"
      ]
     },
     "execution_count": 65,
     "metadata": {},
     "output_type": "execute_result"
    }
   ],
   "source": [
    "data['年齡層'].unique()"
   ]
  },
  {
   "cell_type": "markdown",
   "id": "ca0a7e33",
   "metadata": {},
   "source": [
    "# 10.各年齡層確診數量"
   ]
  },
  {
   "cell_type": "code",
   "execution_count": 71,
   "id": "b43879d2",
   "metadata": {},
   "outputs": [
    {
     "data": {
      "text/plain": [
       "年齡層\n",
       "0-4       37508\n",
       "05-09     57837\n",
       "10-14    295472\n",
       "15-19    301422\n",
       "20-24    518875\n",
       "25-29    560947\n",
       "30-34    609629\n",
       "35-39    561672\n",
       "40-44    651758\n",
       "45-49    447242\n",
       "50-54    371151\n",
       "55-59    725646\n",
       "60-64    316312\n",
       "65-69    257036\n",
       "70+      423206\n",
       "Name: 確定病例數, dtype: int64"
      ]
     },
     "execution_count": 71,
     "metadata": {},
     "output_type": "execute_result"
    }
   ],
   "source": [
    "data1 = data.groupby('年齡層')['確定病例數'].sum()\n",
    "data1"
   ]
  },
  {
   "cell_type": "code",
   "execution_count": 74,
   "id": "503449bf",
   "metadata": {},
   "outputs": [],
   "source": [
    "data1 = data1.reset_index()"
   ]
  },
  {
   "cell_type": "code",
   "execution_count": 80,
   "id": "4f60372e",
   "metadata": {},
   "outputs": [
    {
     "data": {
      "text/plain": [
       "<function matplotlib.pyplot.show(close=None, block=None)>"
      ]
     },
     "execution_count": 80,
     "metadata": {},
     "output_type": "execute_result"
    },
    {
     "data": {
      "image/png": "[encoded data removed]",
      "text/plain": [
       "<Figure size 1152x360 with 1 Axes>"
      ]
     },
     "metadata": {
      "needs_background": "light"
     },
     "output_type": "display_data"
    }
   ],
   "source": [
    "import seaborn as sns\n",
    "plt.figure(figsize=(16,5))\n",
    "sns.barplot(x='年齡層',y='確定病例數',data= data1)\n",
    "plt.xticks(rotation=75)\n",
    "plt.title('各年齡層確診數')\n",
    "plt.show"
   ]
  },
  {
   "cell_type": "markdown",
   "id": "2da7b337",
   "metadata": {},
   "source": [
    "# 11.各縣市確診的人數，並排序大致小"
   ]
  },
  {
   "cell_type": "code",
   "execution_count": 93,
   "id": "a8727955",
   "metadata": {},
   "outputs": [
    {
     "data": {
      "text/plain": [
       "縣市\n",
       "新北市    1322588\n",
       "台中市     728526\n",
       "桃園市     684873\n",
       "高雄市     663838\n",
       "台北市     623256\n",
       "台南市     411337\n",
       "彰化縣     286825\n",
       "屏東縣     176941\n",
       "新竹縣     166503\n",
       "苗栗縣     134213\n",
       "新竹市     128348\n",
       "宜蘭縣     126489\n",
       "雲林縣     122781\n",
       "基隆市     120851\n",
       "花蓮縣     100607\n",
       "南投縣      99907\n",
       "嘉義縣      88944\n",
       "嘉義市      56220\n",
       "台東縣      54977\n",
       "澎湖縣      19609\n",
       "金門縣      15249\n",
       "連江縣       2831\n",
       "Name: 確定病例數, dtype: int64"
      ]
     },
     "execution_count": 93,
     "metadata": {},
     "output_type": "execute_result"
    }
   ],
   "source": [
    "data_city_S = data.groupby('縣市')['確定病例數'].sum().sort_values(ascending = False)\n",
    "data_city_S"
   ]
  },
  {
   "cell_type": "code",
   "execution_count": 94,
   "id": "ae82daf2",
   "metadata": {},
   "outputs": [],
   "source": [
    "data_city_S  = data_city_S.reset_index()"
   ]
  },
  {
   "cell_type": "code",
   "execution_count": 95,
   "id": "4637ea29",
   "metadata": {},
   "outputs": [
    {
     "data": {
      "text/plain": [
       "<function matplotlib.pyplot.show(close=None, block=None)>"
      ]
     },
     "execution_count": 95,
     "metadata": {},
     "output_type": "execute_result"
    },
    {
     "data": {
      "image/png": "[encoded data removed]",
      "text/plain": [
       "<Figure size 1152x360 with 1 Axes>"
      ]
     },
     "metadata": {
      "needs_background": "light"
     },
     "output_type": "display_data"
    }
   ],
   "source": [
    "import seaborn as sns  #新北市與新北市的確診數量最多\n",
    "plt.figure(figsize=(16,5))\n",
    "sns.barplot(x='縣市',y='確定病例數',data= data_city_S)\n",
    "plt.xticks(rotation=75)\n",
    "plt.title('各縣市確診數')\n",
    "plt.show"
   ]
  },
  {
   "cell_type": "markdown",
   "id": "28abcbbb",
   "metadata": {},
   "source": [
    "# 2022年共有多少人確診?"
   ]
  },
  {
   "cell_type": "code",
   "execution_count": 98,
   "id": "d142f996",
   "metadata": {},
   "outputs": [
    {
     "data": {
      "text/plain": [
       "Index(['確定病名', '發病年份', '發病月份', '縣市', '鄉鎮', '性別', '是否為境外移入', '年齡層', '確定病例數'], dtype='object')"
      ]
     },
     "execution_count": 98,
     "metadata": {},
     "output_type": "execute_result"
    }
   ],
   "source": [
    "data.columns"
   ]
  },
  {
   "cell_type": "code",
   "execution_count": 126,
   "id": "74f85f69",
   "metadata": {},
   "outputs": [
    {
     "data": {
      "text/plain": [
       "發病年份\n",
       "2022    6121101\n",
       "Name: 確定病例數, dtype: int64"
      ]
     },
     "execution_count": 126,
     "metadata": {},
     "output_type": "execute_result"
    }
   ],
   "source": [
    "data[data['發病年份'] == 2022].groupby('發病年份')['確定病例數'].sum()  f#2022年共有6121101人確診"
   ]
  },
  {
   "cell_type": "markdown",
   "id": "c68cfe33",
   "metadata": {},
   "source": [
    "# 新北市哪一個鄉鎮確診數最高"
   ]
  },
  {
   "cell_type": "code",
   "execution_count": 112,
   "id": "4bdfcc5d",
   "metadata": {},
   "outputs": [
    {
     "data": {
      "text/plain": [
       "鄉鎮\n",
       "板橋區    185899\n",
       "中和區    146238\n",
       "新莊區    141682\n",
       "三重區    140393\n",
       "新店區     96521\n",
       "土城區     80065\n",
       "汐止區     78892\n",
       "永和區     68322\n",
       "蘆洲區     67750\n",
       "樹林區     55592\n",
       "淡水區     55470\n",
       "林口區     36751\n",
       "三峽區     33185\n",
       "五股區     32559\n",
       "鶯歌區     27767\n",
       "泰山區     26045\n",
       "八里區     11942\n",
       "瑞芳區      9549\n",
       "深坑區      8699\n",
       "三芝區      4533\n",
       "金山區      4403\n",
       "萬里區      3608\n",
       "貢寮區      1222\n",
       "烏來區      1204\n",
       "石碇區      1107\n",
       "石門區      1070\n",
       "雙溪區       919\n",
       "坪林區       667\n",
       "平溪區       534\n",
       "Name: 確定病例數, dtype: int64"
      ]
     },
     "execution_count": 112,
     "metadata": {},
     "output_type": "execute_result"
    }
   ],
   "source": [
    "New_taipei = data[data['縣市'] == '新北市'].groupby('鄉鎮')['確定病例數'].sum().sort_values(ascending =False) #板橋為確診數最高\n",
    "New_taipei"
   ]
  },
  {
   "cell_type": "markdown",
   "id": "c3bde5ee",
   "metadata": {},
   "source": [
    "# 新北市板橋區累積的確診男性數量"
   ]
  },
  {
   "cell_type": "code",
   "execution_count": 136,
   "id": "3e2c53da",
   "metadata": {},
   "outputs": [
    {
     "data": {
      "text/plain": [
       "鄉鎮\n",
       "板橋區    85105\n",
       "Name: 確定病例數, dtype: int64"
      ]
     },
     "execution_count": 136,
     "metadata": {},
     "output_type": "execute_result"
    }
   ],
   "source": [
    "data[(data['鄉鎮'] == '板橋區') &(data['性別'] == 'M')].groupby('鄉鎮')['確定病例數'].sum() #共85105筆"
   ]
  },
  {
   "cell_type": "markdown",
   "id": "2e9f6fd2",
   "metadata": {},
   "source": [
    "# 性別的確診率"
   ]
  },
  {
   "cell_type": "code",
   "execution_count": 113,
   "id": "209f986d",
   "metadata": {},
   "outputs": [
    {
     "data": {
      "text/plain": [
       "M    39867\n",
       "F    39692\n",
       "U      705\n",
       "X      133\n",
       "Name: 性別, dtype: int64"
      ]
     },
     "execution_count": 113,
     "metadata": {},
     "output_type": "execute_result"
    }
   ],
   "source": [
    "data['性別'].value_counts()"
   ]
  },
  {
   "cell_type": "code",
   "execution_count": 116,
   "id": "761a1e5c",
   "metadata": {},
   "outputs": [
    {
     "name": "stderr",
     "output_type": "stream",
     "text": [
      "C:\\Users\\USER\\anaconda3\\lib\\site-packages\\seaborn\\_decorators.py:36: FutureWarning: Pass the following variable as a keyword arg: x. From version 0.12, the only valid positional argument will be `data`, and passing other arguments without an explicit keyword will result in an error or misinterpretation.\n",
      "  warnings.warn(\n"
     ]
    },
    {
     "data": {
      "text/plain": [
       "<AxesSubplot:xlabel='性別', ylabel='count'>"
      ]
     },
     "execution_count": 116,
     "metadata": {},
     "output_type": "execute_result"
    },
    {
     "data": {
      "image/png": "[encoded data removed]",
      "text/plain": [
       "<Figure size 432x288 with 1 Axes>"
      ]
     },
     "metadata": {
      "needs_background": "light"
     },
     "output_type": "display_data"
    }
   ],
   "source": [
    "sns.countplot(data['性別'])"
   ]
  }
 ],
 "metadata": {
  "kernelspec": {
   "display_name": "Python 3 (ipykernel)",
   "language": "python",
   "name": "python3"
  },
  "language_info": {
   "codemirror_mode": {
    "name": "ipython",
    "version": 3
   },
   "file_extension": ".py",
   "mimetype": "text/x-python",
   "name": "python",
   "nbconvert_exporter": "python",
   "pygments_lexer": "ipython3",
   "version": "3.9.12"
  }
 },
 "nbformat": 4,
 "nbformat_minor": 5
}
