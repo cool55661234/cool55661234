{
 "cells": [
  {
   "cell_type": "code",
   "execution_count": 28,
   "id": "54503890",
   "metadata": {},
   "outputs": [
    {
     "data": {
      "text/html": [
       "<div>\n",
       "<style scoped>\n",
       "    .dataframe tbody tr th:only-of-type {\n",
       "        vertical-align: middle;\n",
       "    }\n",
       "\n",
       "    .dataframe tbody tr th {\n",
       "        vertical-align: top;\n",
       "    }\n",
       "\n",
       "    .dataframe thead th {\n",
       "        text-align: right;\n",
       "    }\n",
       "</style>\n",
       "<table border=\"1\" class=\"dataframe\">\n",
       "  <thead>\n",
       "    <tr style=\"text-align: right;\">\n",
       "      <th></th>\n",
       "      <th>班級</th>\n",
       "      <th>總學習時間(小時)</th>\n",
       "      <th>班級總人數</th>\n",
       "      <th>平均每人學習時間</th>\n",
       "    </tr>\n",
       "  </thead>\n",
       "  <tbody>\n",
       "    <tr>\n",
       "      <th>0</th>\n",
       "      <td>7月班</td>\n",
       "      <td>26621</td>\n",
       "      <td>412</td>\n",
       "      <td>65</td>\n",
       "    </tr>\n",
       "    <tr>\n",
       "      <th>1</th>\n",
       "      <td>8月班</td>\n",
       "      <td>28787</td>\n",
       "      <td>436</td>\n",
       "      <td>66</td>\n",
       "    </tr>\n",
       "    <tr>\n",
       "      <th>2</th>\n",
       "      <td>9月班</td>\n",
       "      <td>32905</td>\n",
       "      <td>519</td>\n",
       "      <td>63</td>\n",
       "    </tr>\n",
       "    <tr>\n",
       "      <th>3</th>\n",
       "      <td>10月班</td>\n",
       "      <td>17346</td>\n",
       "      <td>444</td>\n",
       "      <td>39</td>\n",
       "    </tr>\n",
       "    <tr>\n",
       "      <th>4</th>\n",
       "      <td>11月班</td>\n",
       "      <td>20790</td>\n",
       "      <td>503</td>\n",
       "      <td>41</td>\n",
       "    </tr>\n",
       "    <tr>\n",
       "      <th>5</th>\n",
       "      <td>12月班</td>\n",
       "      <td>19524</td>\n",
       "      <td>478</td>\n",
       "      <td>41</td>\n",
       "    </tr>\n",
       "  </tbody>\n",
       "</table>\n",
       "</div>"
      ],
      "text/plain": [
       "     班級  總學習時間(小時)  班級總人數  平均每人學習時間\n",
       "0   7月班      26621    412        65\n",
       "1   8月班      28787    436        66\n",
       "2   9月班      32905    519        63\n",
       "3  10月班      17346    444        39\n",
       "4  11月班      20790    503        41\n",
       "5  12月班      19524    478        41"
      ]
     },
     "execution_count": 28,
     "metadata": {},
     "output_type": "execute_result"
    }
   ],
   "source": [
    "#請確認 10-12 月班級學生投入學習的時間，相較於7-9月的班級 ，是否真的大幅下降？\n",
    "import pandas as pd\n",
    "import matplotlib.pyplot as plt\n",
    "plt.rcParams['font.sans-serif'] = ['SimHei'] \n",
    "plt.rcParams['axes.unicode_minus'] = False\n",
    "# 讀入資料集檔案\n",
    "df = pd.read_csv('Learingtime.csv')\n",
    "df"
   ]
  },
  {
   "cell_type": "code",
   "execution_count": 29,
   "id": "690d97c1",
   "metadata": {},
   "outputs": [
    {
     "data": {
      "text/html": [
       "<div>\n",
       "<style scoped>\n",
       "    .dataframe tbody tr th:only-of-type {\n",
       "        vertical-align: middle;\n",
       "    }\n",
       "\n",
       "    .dataframe tbody tr th {\n",
       "        vertical-align: top;\n",
       "    }\n",
       "\n",
       "    .dataframe thead th {\n",
       "        text-align: right;\n",
       "    }\n",
       "</style>\n",
       "<table border=\"1\" class=\"dataframe\">\n",
       "  <thead>\n",
       "    <tr style=\"text-align: right;\">\n",
       "      <th></th>\n",
       "      <th>班級</th>\n",
       "      <th>平均每人學習時間</th>\n",
       "    </tr>\n",
       "  </thead>\n",
       "  <tbody>\n",
       "    <tr>\n",
       "      <th>0</th>\n",
       "      <td>7月班</td>\n",
       "      <td>65</td>\n",
       "    </tr>\n",
       "    <tr>\n",
       "      <th>1</th>\n",
       "      <td>8月班</td>\n",
       "      <td>66</td>\n",
       "    </tr>\n",
       "    <tr>\n",
       "      <th>2</th>\n",
       "      <td>9月班</td>\n",
       "      <td>63</td>\n",
       "    </tr>\n",
       "    <tr>\n",
       "      <th>3</th>\n",
       "      <td>10月班</td>\n",
       "      <td>39</td>\n",
       "    </tr>\n",
       "    <tr>\n",
       "      <th>4</th>\n",
       "      <td>11月班</td>\n",
       "      <td>41</td>\n",
       "    </tr>\n",
       "    <tr>\n",
       "      <th>5</th>\n",
       "      <td>12月班</td>\n",
       "      <td>41</td>\n",
       "    </tr>\n",
       "  </tbody>\n",
       "</table>\n",
       "</div>"
      ],
      "text/plain": [
       "     班級  平均每人學習時間\n",
       "0   7月班        65\n",
       "1   8月班        66\n",
       "2   9月班        63\n",
       "3  10月班        39\n",
       "4  11月班        41\n",
       "5  12月班        41"
      ]
     },
     "execution_count": 29,
     "metadata": {},
     "output_type": "execute_result"
    }
   ],
   "source": [
    "Filter_data = df.loc[:,['班級','平均每人學習時間']]\n",
    "Filter_data"
   ]
  },
  {
   "cell_type": "code",
   "execution_count": 30,
   "id": "4bf2aa8e",
   "metadata": {},
   "outputs": [
    {
     "data": {
      "text/html": [
       "<div>\n",
       "<style scoped>\n",
       "    .dataframe tbody tr th:only-of-type {\n",
       "        vertical-align: middle;\n",
       "    }\n",
       "\n",
       "    .dataframe tbody tr th {\n",
       "        vertical-align: top;\n",
       "    }\n",
       "\n",
       "    .dataframe thead th {\n",
       "        text-align: right;\n",
       "    }\n",
       "</style>\n",
       "<table border=\"1\" class=\"dataframe\">\n",
       "  <thead>\n",
       "    <tr style=\"text-align: right;\">\n",
       "      <th></th>\n",
       "      <th>平均每人學習時間</th>\n",
       "    </tr>\n",
       "    <tr>\n",
       "      <th>班級</th>\n",
       "      <th></th>\n",
       "    </tr>\n",
       "  </thead>\n",
       "  <tbody>\n",
       "    <tr>\n",
       "      <th>7月班</th>\n",
       "      <td>65</td>\n",
       "    </tr>\n",
       "    <tr>\n",
       "      <th>8月班</th>\n",
       "      <td>66</td>\n",
       "    </tr>\n",
       "    <tr>\n",
       "      <th>9月班</th>\n",
       "      <td>63</td>\n",
       "    </tr>\n",
       "    <tr>\n",
       "      <th>10月班</th>\n",
       "      <td>39</td>\n",
       "    </tr>\n",
       "    <tr>\n",
       "      <th>11月班</th>\n",
       "      <td>41</td>\n",
       "    </tr>\n",
       "    <tr>\n",
       "      <th>12月班</th>\n",
       "      <td>41</td>\n",
       "    </tr>\n",
       "  </tbody>\n",
       "</table>\n",
       "</div>"
      ],
      "text/plain": [
       "      平均每人學習時間\n",
       "班級            \n",
       "7月班         65\n",
       "8月班         66\n",
       "9月班         63\n",
       "10月班        39\n",
       "11月班        41\n",
       "12月班        41"
      ]
     },
     "execution_count": 30,
     "metadata": {},
     "output_type": "execute_result"
    }
   ],
   "source": [
    "Filter_data = Filter_data.set_index('班級')\n",
    "Filter_data"
   ]
  },
  {
   "cell_type": "code",
   "execution_count": 40,
   "id": "2738dcf9",
   "metadata": {},
   "outputs": [
    {
     "data": {
      "text/plain": [
       "<function matplotlib.pyplot.show(close=None, block=None)>"
      ]
     },
     "execution_count": 40,
     "metadata": {},
     "output_type": "execute_result"
    },
    {
     "data": {
      "image/png": "[encoded data removed]",
      "text/plain": [
       "<Figure size 576x432 with 1 Axes>"
      ]
     },
     "metadata": {
      "needs_background": "light"
     },
     "output_type": "display_data"
    }
   ],
   "source": [
    "Filter_data.plot(kind='line', figsize=(8, 6), fontsize=10)\n",
    "plt.show  #從圖上可以得知，10-11月的平均每人學習時間大幅下降"
   ]
  },
  {
   "cell_type": "code",
   "execution_count": 36,
   "id": "b478efc8",
   "metadata": {},
   "outputs": [
    {
     "data": {
      "text/html": [
       "<div>\n",
       "<style scoped>\n",
       "    .dataframe tbody tr th:only-of-type {\n",
       "        vertical-align: middle;\n",
       "    }\n",
       "\n",
       "    .dataframe tbody tr th {\n",
       "        vertical-align: top;\n",
       "    }\n",
       "\n",
       "    .dataframe thead th {\n",
       "        text-align: right;\n",
       "    }\n",
       "</style>\n",
       "<table border=\"1\" class=\"dataframe\">\n",
       "  <thead>\n",
       "    <tr style=\"text-align: right;\">\n",
       "      <th></th>\n",
       "      <th>班級</th>\n",
       "      <th>高投入人數</th>\n",
       "      <th>班級總人數</th>\n",
       "    </tr>\n",
       "  </thead>\n",
       "  <tbody>\n",
       "    <tr>\n",
       "      <th>0</th>\n",
       "      <td>7月班</td>\n",
       "      <td>181</td>\n",
       "      <td>412</td>\n",
       "    </tr>\n",
       "    <tr>\n",
       "      <th>1</th>\n",
       "      <td>8月班</td>\n",
       "      <td>191</td>\n",
       "      <td>436</td>\n",
       "    </tr>\n",
       "    <tr>\n",
       "      <th>2</th>\n",
       "      <td>9月班</td>\n",
       "      <td>212</td>\n",
       "      <td>519</td>\n",
       "    </tr>\n",
       "    <tr>\n",
       "      <th>3</th>\n",
       "      <td>10月班</td>\n",
       "      <td>8</td>\n",
       "      <td>444</td>\n",
       "    </tr>\n",
       "    <tr>\n",
       "      <th>4</th>\n",
       "      <td>11月班</td>\n",
       "      <td>7</td>\n",
       "      <td>503</td>\n",
       "    </tr>\n",
       "    <tr>\n",
       "      <th>5</th>\n",
       "      <td>12月班</td>\n",
       "      <td>5</td>\n",
       "      <td>478</td>\n",
       "    </tr>\n",
       "  </tbody>\n",
       "</table>\n",
       "</div>"
      ],
      "text/plain": [
       "     班級  高投入人數  班級總人數\n",
       "0   7月班    181    412\n",
       "1   8月班    191    436\n",
       "2   9月班    212    519\n",
       "3  10月班      8    444\n",
       "4  11月班      7    503\n",
       "5  12月班      5    478"
      ]
     },
     "execution_count": 36,
     "metadata": {},
     "output_type": "execute_result"
    }
   ],
   "source": [
    "df2 = pd.read_csv('month_histudent.csv') #1.2：高投入學生的人數佔比，在 7-9 月班 和 10-12 月班是否有顯著差異？\n",
    "df2 #：高投入學生為每月投入大於 70 小時的學生，低投入學生為每月低於 25 小時的學生。學生每月建議最低投入時數為 45 小時。"
   ]
  },
  {
   "cell_type": "code",
   "execution_count": 37,
   "id": "799c67ed",
   "metadata": {},
   "outputs": [],
   "source": [
    "top_people = pd.DataFrame({\n",
    "    'top': df2['高投入人數'].values, \n",
    "    'total': df2['班級總人數'].values}\n",
    ",index = df2['班級'].values)"
   ]
  },
  {
   "cell_type": "code",
   "execution_count": 38,
   "id": "2df29a7a",
   "metadata": {},
   "outputs": [
    {
     "data": {
      "text/html": [
       "<div>\n",
       "<style scoped>\n",
       "    .dataframe tbody tr th:only-of-type {\n",
       "        vertical-align: middle;\n",
       "    }\n",
       "\n",
       "    .dataframe tbody tr th {\n",
       "        vertical-align: top;\n",
       "    }\n",
       "\n",
       "    .dataframe thead th {\n",
       "        text-align: right;\n",
       "    }\n",
       "</style>\n",
       "<table border=\"1\" class=\"dataframe\">\n",
       "  <thead>\n",
       "    <tr style=\"text-align: right;\">\n",
       "      <th></th>\n",
       "      <th>top</th>\n",
       "      <th>total</th>\n",
       "    </tr>\n",
       "  </thead>\n",
       "  <tbody>\n",
       "    <tr>\n",
       "      <th>7月班</th>\n",
       "      <td>181</td>\n",
       "      <td>412</td>\n",
       "    </tr>\n",
       "    <tr>\n",
       "      <th>8月班</th>\n",
       "      <td>191</td>\n",
       "      <td>436</td>\n",
       "    </tr>\n",
       "    <tr>\n",
       "      <th>9月班</th>\n",
       "      <td>212</td>\n",
       "      <td>519</td>\n",
       "    </tr>\n",
       "    <tr>\n",
       "      <th>10月班</th>\n",
       "      <td>8</td>\n",
       "      <td>444</td>\n",
       "    </tr>\n",
       "    <tr>\n",
       "      <th>11月班</th>\n",
       "      <td>7</td>\n",
       "      <td>503</td>\n",
       "    </tr>\n",
       "    <tr>\n",
       "      <th>12月班</th>\n",
       "      <td>5</td>\n",
       "      <td>478</td>\n",
       "    </tr>\n",
       "  </tbody>\n",
       "</table>\n",
       "</div>"
      ],
      "text/plain": [
       "      top  total\n",
       "7月班   181    412\n",
       "8月班   191    436\n",
       "9月班   212    519\n",
       "10月班    8    444\n",
       "11月班    7    503\n",
       "12月班    5    478"
      ]
     },
     "execution_count": 38,
     "metadata": {},
     "output_type": "execute_result"
    }
   ],
   "source": [
    "top_people"
   ]
  },
  {
   "cell_type": "code",
   "execution_count": 39,
   "id": "9066c916",
   "metadata": {},
   "outputs": [
    {
     "data": {
      "image/png": "[encoded data removed]",
      "text/plain": [
       "<Figure size 432x288 with 1 Axes>"
      ]
     },
     "metadata": {
      "needs_background": "light"
     },
     "output_type": "display_data"
    }
   ],
   "source": [
    "axs = top_people.plot.bar(rot = 0) #由於每個月的總人數不一樣，所以採用雙軸的直條圖查看"
   ]
  },
  {
   "cell_type": "code",
   "execution_count": null,
   "id": "b91a8a93",
   "metadata": {},
   "outputs": [],
   "source": [
    "# #數據結果\n",
    "# 7 - 9 月的學生人數與 10 - 12 月的學生人數，並無顯著差異大約落在 400 ~ 500 人之間。\n",
    "# 7 - 9 月的學生投入時數比起 10 - 12 月的學生投入時數，有顯著下降從平均 60 小時降至 40 小時。\n",
    "# 結論\n",
    "# 本次數據分析證實，學員投入時數減少的事實存在，且並非因為學員人數減少所造成，而是每位學員平均投入時數降低所致。\n",
    "\n",
    "# 研究假設與後續動作\n",
    "# 本次研究並未針對學員背景進行調查，所以，無法判斷學員投入時間下降是由學生背景所造成還是教材設計所造成，\n",
    "# 需要針對兩群學生的學員背景進行進一步分析，才能得到可能因素。"
   ]
  }
 ],
 "metadata": {
  "kernelspec": {
   "display_name": "Python 3 (ipykernel)",
   "language": "python",
   "name": "python3"
  },
  "language_info": {
   "codemirror_mode": {
    "name": "ipython",
    "version": 3
   },
   "file_extension": ".py",
   "mimetype": "text/x-python",
   "name": "python",
   "nbconvert_exporter": "python",
   "pygments_lexer": "ipython3",
   "version": "3.9.12"
  }
 },
 "nbformat": 4,
 "nbformat_minor": 5
}
